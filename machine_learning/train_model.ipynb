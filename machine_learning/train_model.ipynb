{
 "cells": [
  {
   "cell_type": "markdown",
   "id": "0aa5cc15-0ea0-4209-ae74-2cd4b6dc63ee",
   "metadata": {},
   "source": [
    "# Fine Tuning the saved Gemma 3b model"
   ]
  },
  {
   "cell_type": "markdown",
   "id": "6bcca592-f987-45c0-bcf2-b46017e0f4e3",
   "metadata": {},
   "source": [
    "The purpose of this notebook is to fine-tune the Gemma 3b model using LoRA training. Using a conversational dataset, we will nudge Gemma-3b to act in a specific manner."
   ]
  },
  {
   "cell_type": "markdown",
   "id": "b93b23c3-c701-469f-a90d-a4e12f5bc6dc",
   "metadata": {},
   "source": [
    "---"
   ]
  },
  {
   "cell_type": "code",
   "execution_count": 2,
   "id": "42ae5e3b-1e77-4ac8-bfab-40d8a1bfae2f",
   "metadata": {},
   "outputs": [],
   "source": [
    "from transformers import AutoTokenizer, AutoModelForCausalLM\n",
    "\n",
    "model = AutoModelForCausalLM.from_pretrained(\"./gemma_model_3b\")\n",
    "tokenizer = AutoTokenizer.from_pretrained(\"./gemma_model_3b\")"
   ]
  },
  {
   "cell_type": "code",
   "execution_count": null,
   "id": "097fb159-3a3d-492c-a6f2-7eb8e57d4007",
   "metadata": {},
   "outputs": [],
   "source": []
  }
 ],
 "metadata": {
  "kernelspec": {
   "display_name": "Python 3 (ipykernel)",
   "language": "python",
   "name": "python3"
  },
  "language_info": {
   "codemirror_mode": {
    "name": "ipython",
    "version": 3
   },
   "file_extension": ".py",
   "mimetype": "text/x-python",
   "name": "python",
   "nbconvert_exporter": "python",
   "pygments_lexer": "ipython3",
   "version": "3.13.7"
  }
 },
 "nbformat": 4,
 "nbformat_minor": 5
}
